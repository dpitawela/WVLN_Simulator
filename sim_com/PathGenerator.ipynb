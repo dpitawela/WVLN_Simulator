{
 "cells": [
  {
   "cell_type": "code",
   "execution_count": 1,
   "metadata": {
    "collapsed": true
   },
   "outputs": [],
   "source": [
    "from selenium.webdriver.common.by import By\n",
    "from SimulatorCommunicator import setup, switchToIframe, scrollToTheBottom, updateURL, clickElement\n",
    "\n",
    "import networkx as nx\n",
    "import random\n",
    "import matplotlib.pyplot as plt\n",
    "import re"
   ]
  },
  {
   "cell_type": "code",
   "execution_count": 2,
   "metadata": {},
   "outputs": [],
   "source": [
    "def getAllClickables(driver):\n",
    "    elements = []\n",
    "\n",
    "    elements_a = driver.find_elements(By.TAG_NAME, 'a')\n",
    "    for element in elements_a:\n",
    "        if element.is_displayed() and element.is_enabled() and element.rect.__len__() != 0:  # excluding all the hidden links\n",
    "            # print(element.get_property('attributes')[0].items(), \"\\n\")\n",
    "\n",
    "            data = {}\n",
    "            data['x'] = element.rect['x']\n",
    "            data['y'] = element.rect['y']\n",
    "            data['width'] = element.rect['width']\n",
    "            data['height'] = element.rect['height']\n",
    "            data['outer_html'] = element.get_attribute('outerHTML')\n",
    "            data['href'] = element.get_dom_attribute('href')\n",
    "            data['href_full'] = element.get_attribute('href')\n",
    "            data['class'] = element.get_attribute('class')\n",
    "            data['name'] = element.text\n",
    "            elements.append(data)\n",
    "            # break\n",
    "    return elements"
   ]
  },
  {
   "cell_type": "code",
   "execution_count": 3,
   "metadata": {},
   "outputs": [],
   "source": [
    "# checks one agains a list\n",
    "def isSimilar(query, reference):\n",
    "    points = 0\n",
    "    # relative url match\n",
    "    if(query[0]) == reference[0]:\n",
    "        points += 1\n",
    "\n",
    "    # absolute url match\n",
    "    if(query[1]) == reference[1]:\n",
    "        points += 1\n",
    "  \n",
    "    # class match  \n",
    "    if(query[2]) == reference[2]:\n",
    "        points += 1 \n",
    "\n",
    "    return points >= 2\n",
    "\n",
    "# check one url\n",
    "def checkIfIn(query, urlList):\n",
    "    for url in urlList:\n",
    "        if isSimilar(query, url):\n",
    "            return True\n",
    "    \n",
    "    return False"
   ]
  },
  {
   "cell_type": "code",
   "execution_count": 4,
   "metadata": {},
   "outputs": [],
   "source": [
    "l1 = [\n",
    "     ('#', 'index.html#', 'nav-link\\n                js-top-drawer-click')\n",
    "]\n",
    "\n",
    "l2 = [\n",
    "     ('collections/womens-new-arrivals.html', 'collections/womens-new-arrivals.html', 'topnav-mobile-link'),\n",
    "     ('collections/womens.html', 'collections/womens.html', 'topnav-mobile-link'), \n",
    "     ('collections/kids.html', 'collections/kids.html', 'topnav-mobile-link'),\n",
    "     ('collections/mens.html', 'collections/mens.html', 'topnav-mobile-link'),\n",
    "]\n",
    "\n",
    "l3 = [\n",
    "     ('collections/womens.html', 'collections/womens.html', 'topnav-mobile-link'),\n",
    "     ('collections/womens-new-arrivals.html', 'collections/womens-new-arrivals.html', 'topnav-mobile-link'),\n",
    "     ('collections/womens-socks.html', 'collections/womens-socks.html', 'topnav-mobile-link'),\n",
    "     ('collections/womens-tights-and-leggings.html', 'collections/womens-tights-and-leggings.html', 'topnav-mobile-link'),\n",
    "     ('collections/womens-clothing.html', 'collections/womens-clothing.html', 'topnav-mobile-link'),\n",
    "     ('collections/womens-bags.html', 'collections/womens-bags.html', 'topnav-mobile-link'),\n",
    "     ('collections/womens-sale.html', 'collections/womens-sale.html', 'topnav-mobile-link'),\n",
    "\n",
    "     ('collections/kids.html', 'collections/kids.html', 'topnav-mobile-link'),\n",
    "     ('collections/kids-new-arrivals.html', 'collections/kids-new-arrivals.html', 'topnav-mobile-link'),\n",
    "     ('collections/kids-socks.html', 'collections/kids-socks.html', 'topnav-mobile-link'),\n",
    "     ('collections/kids-tights-and-leggings.html', 'collections/kids-tights-and-leggings.html', 'topnav-mobile-link'),\n",
    "     ('collections/kids-sale.html', 'collections/kids-sale.html', 'topnav-mobile-link'),\n",
    "\n",
    "     ('collections/mens.html', 'collections/mens.html', 'topnav-mobile-link'),\n",
    "     ('collections/mens-new-arrivals-1.html', 'collections/mens-new-arrivals-1.html', 'topnav-mobile-link'),\n",
    "     ('collections/mens-socks.html', 'collections/mens-socks.html', 'topnav-mobile-link'),\n",
    "     ('collections/mens-sale.html', 'collections/mens-sale.html', 'topnav-mobile-link'),\n",
    "]\n",
    "\n",
    "eliminate = [\n",
    "     ('collections/mens.html', 'collections/mens.html', 'topnav-mobile-link'),\n",
    "     ('collections/womens-tights-and-leggings.html', 'collections/womens-tights-and-leggings.html', 'subnav-link\\n                        '),\n",
    "     ('collections/womens-bags.html', 'collections/womens-bags.html', 'subnav-link\\n                        '),\n",
    "     ('collections/womens-gift-card.html', 'collections/womens-gift-card.html', 'subnav-link\\n                        '),\n",
    "     ('collections/womens-sale.html', 'collections/womens-sale.html', 'subnav-link\\n                        '),\n",
    "     ('collections/womens-sporty-series.html', 'collections/womens-sporty-series.html', 'subnav-link\\n                        '),\n",
    "     ('collections/womens-conversational-crews.html', 'collections/womens-conversational-crews.html', 'subnav-link\\n                        '),\n",
    "     ('collections/womens-new-arrivals.html', 'collections/womens-new-arrivals.html', ''),\n",
    "     ('collections/kids-gift-card.html', 'collections/kids-gift-card.html', 'subnav-link\\n                        '),\n",
    "     ('collections/kids-sale.html', 'collections/kids-sale.html', 'subnav-link\\n                        '),\n",
    "     ('collections/kids-new-arrivals.html', 'collections/kids-new-arrivals.html', ''),\n",
    "     ('collections/mens-new-arrivals-1.html', 'collections/mens-new-arrivals-1.html', '')\n",
    "]"
   ]
  },
  {
   "cell_type": "code",
   "execution_count": 8,
   "metadata": {},
   "outputs": [
    {
     "name": "stdout",
     "output_type": "stream",
     "text": [
      "{'x': 425.859375, 'y': 5020.234375, 'width': 103, 'height': 20, 'outer_html': '<a href=\"pages/press.html\" class=\"footer-link\">\\n            Press\\n          </a>', 'href': 'pages/press.html', 'href_full': 'http://localhost:4200/assets/crawled/hansel/hanselfrombasel.com/pages/press.html', 'class': 'footer-link', 'name': 'Press'}\n",
      "{'x': 705.84375, 'y': 64.953125, 'width': 35, 'height': 21, 'outer_html': '<a href=\"../search.html\" class=\"nav-link\\n                nav-link-mobile\">\\n        <!--?xml version=\"1.0\" encoding=\"utf-8\"?-->\\n<!-- Generator: Adobe Illustrator 18.1.1, SVG Export Plug-In . SVG Version: 6.00 Build 0)  -->\\n<svg version=\"1.1\" class=\"icon icon-search\" xmlns=\"http://www.w3.org/2000/svg\" xmlns:xlink=\"http://www.w3.org/1999/xlink\" x=\"0px\" y=\"0px\" viewBox=\"0 0 20 20\" enable-background=\"new 0 0 20 20\" xml:space=\"preserve\">\\n<g>\\n\\t<path d=\"M6.6,7.5c0.3,0.1,0.5,0.4,0.7,0.6c0.3,0.2,0.5,0.5,0.8,0.7c0.2-0.2,0.4-0.4,0.6-0.6C8.5,7.9,8.1,7.6,7.8,7.3\\n\\t\\tC7.7,7.2,7.4,6.9,7.3,6.9C7.1,7,6.7,7.3,6.6,7.5\"></path>\\n\\t<g>\\n\\t\\t<path d=\"M2.8,2.7c0.6-0.2,0,0.5-0.2,0.9c-0.2,0.3-0.2,0.7-0.2,1c0,0.7,0.2,1.3,0.7,1.8c1,1.1,2.6,0.8,3.6-0.2\\n\\t\\t\\tc0.5-0.5,0.8-1.1,0.9-1.8c0-0.8-0.2-1.3-0.8-1.8C5.7,1.7,4,2.2,3,3C2.7,3.2,2.7,3.5,2.4,3.3C2.2,3.2,2,2.6,2.1,2.4\\n\\t\\t\\tc0.2-0.5,1.1-1,1.6-1.1C4.1,1.1,4.4,1.1,4.8,1c0.4,0,0.7,0,1.1,0.1c0.4,0.1,0.7,0.1,1,0.4C7.2,1.7,7.4,1.8,7.7,2\\n\\t\\t\\tC8,2.2,8.1,2.6,8.3,2.9c0.2,0.3,0.3,0.6,0.4,1c0.1,0.8,0,1.6-0.4,2.3C7.9,6.7,7.5,7.2,6.9,7.6C6.3,8,5.5,8,4.8,8.1\\n\\t\\t\\tc-0.7,0-1.3,0-1.9-0.3C2.3,7.5,2,7,1.7,6.5C1.3,6,1.1,5.3,1.2,4.6C1.3,4.1,1.4,3.5,1.6,3c0.1-0.2,0.5-0.9,0.7-0.9\\n\\t\\t\\tC2.5,2,2.6,2.8,2.8,2.7z\"></path>\\n\\t\\t<path d=\"M9.6,10.8c0.4,0.4,0.8,0.9,1.2,1.3c0.8,0.9,1.6,1.7,2.4,2.5c0.4,0.4,0.7,0.7,1.1,1.1c0.4,0.4,0.7,0.8,1.1,1.2\\n\\t\\t\\tc0.2,0.2,1,1,1.1,0.9c0.1-0.1,0.4-0.4,0.5-0.5c0.2-0.2,0.3-0.2,0.4-0.5c-1-0.9-1.9-2-2.8-3c-0.8-0.8-1.6-1.6-2.4-2.4\\n\\t\\t\\tc-0.5-0.5-1-1-1.4-1.6c-0.4-0.5-1-0.9-1.4-1.4C8.8,8.6,8.6,9.2,8.1,9.5C7.9,9.4,7.5,9,7.6,8.8C7.7,8.7,8,8.5,8.1,8.4\\n\\t\\t\\tc0.2-0.2,0.9-1.1,1.2-1.1c0.1,0,0.5,0.5,0.6,0.6c0.2,0.3,0.5,0.5,0.7,0.8c0.4,0.4,0.7,0.8,1.1,1.2c0.2,0.2,0.4,0.4,0.5,0.6\\n\\t\\t\\tc0.2,0.3,0.5,0.5,0.7,0.7c0.4,0.4,0.9,0.8,1.3,1.3c0.2,0.2,0.4,0.5,0.7,0.7c0.2,0.2,0.5,0.3,0.7,0.6c0.4,0.5,0.9,0.8,1.2,1.3\\n\\t\\t\\tc0.6,0.7,1.3,1.2,1.8,1.9c-0.4,0.4-0.9,0.8-1.2,1.1c-0.3,0.2-0.9,1.2-1.2,1c-0.3-0.2-0.4-0.4-0.5-0.6c-0.2-0.2-0.4-0.3-0.5-0.5\\n\\t\\t\\tc-0.4-0.4-0.8-0.9-1.2-1.3c-0.5-0.5-0.8-0.8-1.2-1.3c-0.2-0.2-0.4-0.4-0.6-0.6c-0.2-0.2-0.4-0.5-0.7-0.7c-0.8-0.8-1.7-1.6-2.4-2.5\\n\\t\\t\\tc-0.2-0.3-0.6-0.8-0.9-1C7.9,10,8,10.1,7.7,9.8C7.6,9.7,7.4,9.6,7.3,9.5c-0.2-0.4,0.4-1,0.8-0.4c0.2,0.3,0.4,0.4,0.6,0.7\\n\\t\\t\\tC8.9,10.1,9.3,10.5,9.6,10.8z\"></path>\\n\\t</g>\\n\\t<path d=\"M7.9,8.5c0,0.1-0.1,0.1-0.2,0.1c-0.1,0-0.1,0.1-0.2,0.1C7.5,8.9,7.4,9,7.3,9.1c0,0-0.1,0.1-0.1,0.1c0,0,0.1,0.1,0.1,0.2\\n\\t\\tc0,0,0,0.1,0.1,0.1c0,0.1,0.1,0,0.1,0C7.6,9.2,7.8,9,8,8.8C8,8.8,8.1,8.7,8,8.6C8,8.6,8,8.5,7.9,8.5C8,8.5,7.9,8.5,7.9,8.5\"></path>\\n</g>\\n</svg>\\n\\n      </a>', 'href': '../search.html', 'href_full': 'http://localhost:4200/assets/crawled/hansel/hanselfrombasel.com/search.html', 'class': 'nav-link\\n                nav-link-mobile', 'name': ''}\n",
      "{'x': 167.796875, 'y': 507.78125, 'width': 103, 'height': 20, 'outer_html': '<a href=\"pages/size-guide.html\" class=\"footer-link\">\\n            Size Guide\\n          </a>', 'href': 'pages/size-guide.html', 'href_full': 'http://localhost:4200/assets/crawled/hansel/hanselfrombasel.com/pages/size-guide.html', 'class': 'footer-link', 'name': 'Size Guide'}\n",
      "{'x': 27.171875, 'y': 57.96875, 'width': 35, 'height': 35, 'outer_html': '<a href=\"#\" class=\"nav-link\\n                js-top-drawer-click\" data-top=\"subnav\">\\n        <!--?xml version=\"1.0\" encoding=\"UTF-8\"?-->\\n<svg class=\"icon icon-menu\" viewBox=\"0 0 17 9\" version=\"1.1\" xmlns=\"http://www.w3.org/2000/svg\" xmlns:xlink=\"http://www.w3.org/1999/xlink\">\\n    <!-- Generator: Sketch 47 (45396) - http://www.bohemiancoding.com/sketch -->\\n    <title>Group Copymenu</title>\\n    <desc>Created with Sketch.</desc>\\n    <defs></defs>\\n    <g id=\"Page-1\" stroke=\"none\" stroke-width=\"1\" fill=\"none\" fill-rule=\"evenodd\" stroke-linecap=\"square\">\\n        <g id=\"mobile\" transform=\"translate(-18.000000, -37.000000)\" stroke=\"#000000\">\\n            <g id=\"Group-Copy\" transform=\"translate(18.000000, 37.000000)\">\\n                <path d=\"M0.5,0.5 L16.5,0.5\" id=\"Line\"></path>\\n                <path d=\"M0.5,4.5 L16.5,4.5\" id=\"Line-Copy\"></path>\\n                <path d=\"M0.5,8.5 L16.5,8.5\" id=\"Line-Copy-2\"></path>\\n            </g>\\n        </g>\\n    </g>\\n</svg>\\n      </a>', 'href': '#', 'href_full': 'http://localhost:4200/assets/crawled/hansel/hanselfrombasel.com/pages/size-guide.html#', 'class': 'nav-link\\n                js-top-drawer-click', 'name': 'Group Copymenu Created With Sketch.'}\n",
      "{'x': 740.84375, 'y': 62.953125, 'width': 35, 'height': 25, 'outer_html': '<a href=\"../cart.html\" class=\"nav-link\\n                nav-link-mobile\\n                js-drawer-toggle\" data-drawer=\"cart\">\\n        <!--?xml version=\"1.0\" encoding=\"utf-8\"?-->\\n<!-- Generator: Adobe Illustrator 18.1.1, SVG Export Plug-In . SVG Version: 6.00 Build 0)  -->\\n<svg version=\"1.1\" class=\"icon icon-cart\" xmlns=\"http://www.w3.org/2000/svg\" xmlns:xlink=\"http://www.w3.org/1999/xlink\" x=\"0px\" y=\"0px\" viewBox=\"0 0 20 20\" enable-background=\"new 0 0 20 20\" xml:space=\"preserve\">\\n<path d=\"M15.8,7.3c-0.2-0.5-0.3-1.1-0.4-1.6c-0.1-0.6-0.1-1.2-0.2-1.8c-0.1-0.5-0.1-1.1-0.1-1.6c0-0.2,0.1-0.6-0.1-0.8\\n\\tc-0.1-0.2-0.5-0.2-0.7-0.2c0,0-0.6-0.2-0.7,0.6c-0.1,0.4-0.1,0.7-0.2,1.1c-0.2,0.7-0.4,1.4-0.6,2.2c-0.2,0.6-0.4,1.3-0.7,1.8\\n\\tc-0.3,0.6-1.1,0.8-1.7,0.8C9.8,7.8,9,8,8.6,7.4C8.2,6.9,7.9,6.3,7.7,5.8C7.5,5.4,7.4,5,7.4,4.6c0,0-0.1,0-0.1,0\\n\\tc-0.3-0.1-0.3-0.9,0-0.8c0,0,0,0,0,0c0-0.1,0-0.1,0-0.2C7.1,3,7.4,2.2,7.2,1.5C7,1,6,0.8,5.6,1.3C5.2,1.8,5.3,2.7,5.2,3.3\\n\\tC5.1,4.2,5.1,5.1,4.9,6c0.1-0.4,0.6-0.7,0.9-0.3C6,5.9,6,6.3,5.8,6.4C5.6,6.6,5.1,6.8,5,6.6C4.9,6.5,4.9,6.4,4.9,6.3\\n\\tc-0.1,0.5-0.2,1-0.3,1.4C4.1,9.1,4,10.4,3.9,11.9c0,1.5-0.3,2.9-0.3,4.4c0,0.6-0.2,1.5,0.4,2c0.5,0.4,1.2,0.5,1.8,0.5\\n\\tc0.7,0.1,1.4,0,2.1,0.1c0.7,0.1,1.4-0.1,2.1,0c1.4,0.1,2.8,0.2,4.2,0c0.3-0.1,0.6,0,0.9-0.2c0.2-0.2,0.4-0.5,0.5-0.8\\n\\tc0.3-0.6,0.4-1.4,0.4-2c0-0.7,0.2-1.5,0.3-2.2c0.1-0.7,0.1-1.4,0.1-2.2C16.4,10,16.3,8.6,15.8,7.3z M4.6,18.5\\n\\tc-0.5,0-0.4-0.8,0.1-0.9C5.3,17.6,5.1,18.5,4.6,18.5z M4.6,12.3C3.9,12.2,4,11,4.7,11.1C5.4,11.2,5.4,12.4,4.6,12.3z M7,8.7\\n\\tc0.7,0.2,0.1,1.3-0.5,1C6,9.4,6.5,8.6,7,8.7z M7.4,14.9c-0.1,0.3-0.4,0.4-0.6,0.4c0,0-0.1,0-0.1,0c-0.5,0-0.6-0.7,0-1\\n\\tc0.2-0.1,0.4-0.1,0.5,0C7.4,14.4,7.5,14.6,7.4,14.9z M9,12c0.1,0.5-0.6,0.8-0.8,0.3C8.1,11.7,8.8,11.3,9,12z M8.8,18.4\\n\\tc-0.4,0.2-0.7-0.2-0.6-0.6c0.1-0.3,0.3-0.4,0.5-0.4C9.2,17.4,9.2,18.2,8.8,18.4z M10.5,15.4c-0.2-0.1-0.3-0.4-0.2-0.7\\n\\tc0.2-0.5,0.8-0.5,0.9,0.1C11.2,15.2,10.9,15.7,10.5,15.4z M11.6,9.8c-0.6,0-0.6-1,0-1C12.3,8.7,12.3,9.8,11.6,9.8z M13.2,18.6\\n\\tc-0.4,0.1-0.5-0.2-0.5-0.6c0-0.3,0.2-0.6,0.6-0.6C13.9,17.5,13.7,18.5,13.2,18.6z M13.1,12.3c-0.5-0.6,0.6-1.5,1.1-0.7\\n\\tC14.5,12.2,13.5,12.8,13.1,12.3z M13.8,4.7c-0.4,0-0.4-0.4-0.4-0.7c0-0.1,0.1-0.4,0.2-0.5c0.4-0.4,0.8,0,0.8,0.4\\n\\tC14.4,4.3,14.2,4.7,13.8,4.7z M15.8,15.3c-0.2,0.3-0.8,0.6-1,0.1c-0.1-0.3,0.1-0.7,0.4-0.9C15.7,14.2,16.1,14.9,15.8,15.3z\\n\\t M15.4,9.4c-0.6-0.2-0.2-1.4,0.5-1C16.4,8.8,16,9.6,15.4,9.4z\"></path>\\n</svg>\\n\\n      </a>', 'href': '../cart.html', 'href_full': 'http://localhost:4200/assets/crawled/hansel/hanselfrombasel.com/cart.html', 'class': 'nav-link\\n                nav-link-mobile\\n                js-drawer-toggle', 'name': ''}\n"
     ]
    }
   ],
   "source": [
    "base = \"http://localhost:4200/assets/crawled/hansel/hanselfrombasel.com/\"\n",
    "\n",
    "def collectData(n_data):\n",
    "    driver = setup()\n",
    "    switchToIframe(driver)\n",
    "\n",
    "    for i in range(n_data):\n",
    "        scrollToTheBottom(driver)\n",
    "        # clickables = getAllClickables(driver)\n",
    "\n",
    "        clickables = [clickable for clickable in getAllClickables(driver) if not checkIfIn((clickable['href'], clickable['href_full'].replace(base,\"\"), clickable['class']), eliminate)]\n",
    "        # print(clickables)\n",
    "        \n",
    "        chosenLink = random.choice(clickables[:])\n",
    "        print(chosenLink)\n",
    "\n",
    "        clickElement(driver, chosenLink['x'], chosenLink['y'])\n",
    "        # break\n",
    "\n",
    "\n",
    "collectData(5)"
   ]
  },
  {
   "cell_type": "code",
   "execution_count": 10,
   "metadata": {},
   "outputs": [
    {
     "data": {
      "text/plain": [
       "{(1, 1, 1), (2, 2, 2)}"
      ]
     },
     "execution_count": 10,
     "metadata": {},
     "output_type": "execute_result"
    }
   ],
   "source": [
    "a = set([(1,1,1), (2,2,2), ('collections/mens.html', 'collections/mens.html', 'topnav-mobile-link')])\n",
    "b = set([('collections/mens.html', 'collections/mens.html', 'topnav-mobile-link')])\n",
    "\n",
    "a.difference(b)"
   ]
  },
  {
   "cell_type": "code",
   "execution_count": null,
   "metadata": {
    "collapsed": false,
    "pycharm": {
     "name": "#%%\n"
    }
   },
   "outputs": [],
   "source": [
    "# driver = setup(False)\n",
    "# switchToIframe(driver)\n",
    "# [(click['href'], click['href_full'].replace(base,\"\"), click['class']) for click in getAllClickables(driver)]\n",
    "\n",
    "# data = {\n",
    "#     'href':'assets/crawled/hansel/hanselfrombasel.com/index.html',\n",
    "#     'href_full':'assets/crawled/hansel/hanselfrombasel.com/index.html',\n",
    "#     'x': 0,\n",
    "#     'y': 0}\n"
   ]
  },
  {
   "cell_type": "code",
   "execution_count": 11,
   "metadata": {},
   "outputs": [
    {
     "data": {
      "text/plain": [
       "['pages/shipping.html__FREE SHIPPING ON US ORDERS $75+',\n",
       " '#_nav-link\\n                js-top-drawer-click_Group Copymenu Created With Sketch.',\n",
       " 'account/login.html#sign-in_nav-link_',\n",
       " 'index.html_nav-lockup_',\n",
       " 'search.html_nav-link\\n                nav-link-mobile_',\n",
       " 'cart.html_nav-link\\n                nav-link-mobile\\n                js-drawer-toggle_',\n",
       " 'collections/womens-new-arrivals.html_topnav-mobile-link_New Arrivals',\n",
       " \"collections/womens.html_topnav-mobile-link_Women's\",\n",
       " \"collections/kids.html_topnav-mobile-link_Kid's\",\n",
       " 'collections/kids.html_topnav-mobile-link_All',\n",
       " 'collections/kids-new-arrivals.html_topnav-mobile-link_New Arrivals',\n",
       " 'collections/kids-socks.html_topnav-mobile-link_Socks',\n",
       " 'collections/kids-tights-and-leggings.html_topnav-mobile-link_Tights and Leggings',\n",
       " 'collections/kids-sale.html_topnav-mobile-link_SALE',\n",
       " \"collections/mens.html_topnav-mobile-link_Men's\",\n",
       " 'collections/mens.html_topnav-mobile-link_All',\n",
       " 'collections/mens-new-arrivals-1.html_topnav-mobile-link_New Arrivals',\n",
       " 'collections/mens-socks.html_topnav-mobile-link_Socks',\n",
       " 'collections/mens-sale.html_topnav-mobile-link_SALE',\n",
       " 'collections/womens-tights-and-leggings.html_subnav-link\\n                        _Tights and Leggings',\n",
       " 'collections/womens-bags.html_subnav-link\\n                        _Bags',\n",
       " 'collections/womens-gift-card.html_subnav-link\\n                        _Gift Card',\n",
       " 'collections/womens-sale.html_subnav-link\\n                        _SALE',\n",
       " 'collections/womens-sporty-series.html_subnav-link\\n                        _Sporty',\n",
       " 'collections/womens-conversational-crews.html_subnav-link\\n                        _Conversational',\n",
       " 'collections/womens-new-arrivals.html__SHOP NOW',\n",
       " 'collections/kids-gift-card.html_subnav-link\\n                        _Gift Card',\n",
       " 'collections/kids-sale.html_subnav-link\\n                        _SALE',\n",
       " 'collections/kids-new-arrivals.html__SHOP NOW',\n",
       " 'collections/mens-new-arrivals-1.html__SHOP NOW',\n",
       " 'collections/womens-new-arrivals.html_button\\n                        button-medium\\n                        button-white\\n                        txt-size-2\\n                        txt-tracked-two-point_SHOP NEW ARRIVALS',\n",
       " 'collections/womens/products/martina-pant-white.html__MARTINA PANTS',\n",
       " 'collections/womens-clothing.html__SHOP CLOTHING',\n",
       " '#__',\n",
       " 'collections/womens-low-gauge-conversationals.html__SHOP LOW GAUGE',\n",
       " 'collections/womens-made-in-japan.html__SHOP SHEERS',\n",
       " 'collections/womens-new-arrivals.html__SHOP NEW ARRIVALS',\n",
       " 'collections/womens-fundamentals.html__SHOP FUNDAMENTALS',\n",
       " 'collections/womens-made-in-japan.html__SHOP MADE IN JAPAN',\n",
       " 'collections/womens-new-arrivals.html__SHOP NEW ARRIVALS',\n",
       " 'collections/homepage-featured-collection/products/fundamental-liner-2pr-pack.html__',\n",
       " 'collections/homepage-featured-collection/products/jane-crew.html__',\n",
       " 'collections/homepage-featured-collection/products/aperitif-crew.html__',\n",
       " 'collections/homepage-featured-collection/products/martha-crew.html__',\n",
       " 'collections/homepage-featured-collection/products/corbusier-crew.html__',\n",
       " 'collections/homepage-featured-collection/products/fluffy-friends-crew.html__',\n",
       " 'pages/contact.html_footer-link_Contact Us',\n",
       " 'pages/shipping.html_footer-link_Shipping Policy',\n",
       " 'pages/returns.html_footer-link_Returns + Exchanges',\n",
       " 'pages/size-guide.html_footer-link_Size Guide',\n",
       " 'pages/care-instructions.html_footer-link_Care Instructions',\n",
       " 'pages/promotion-details.html_footer-link_Promotion Details',\n",
       " 'pages/ccpa-opt-out.html_footer-link_Do Not Sell My Personal Information',\n",
       " 'policies/privacy-policy.html_footer-link_Privacy Policy',\n",
       " 'pages/korean-buying-guide.html_footer-link_카드에 연결된 주소입니다',\n",
       " 'https://instagram.com/hanselfrombasel/_icon-instagram\\n                    footer-link\\n                    footer-link-social_Instagram',\n",
       " 'https://www.facebook.com/HanselfromBasel_icon-facebook\\n                    footer-link\\n                    footer-link-social_Facebook',\n",
       " 'https://www.pinterest.com/hanselfrombasel/_icon-pinterest\\n                    footer-link\\n                    footer-link-social_Pinterest',\n",
       " 'pages/wholesale.html_footer-link_Wholesale',\n",
       " 'pages/press.html_footer-link_Press',\n",
       " 'pages/our-story.html_footer-link_Our Story',\n",
       " 'pages/stockists.html_footer-link_Stockists']"
      ]
     },
     "execution_count": 11,
     "metadata": {},
     "output_type": "execute_result"
    }
   ],
   "source": [
    "# Unused"
   ]
  },
  {
   "cell_type": "markdown",
   "metadata": {},
   "source": [
    "# Unused"
   ]
  },
  {
   "cell_type": "code",
   "execution_count": 73,
   "metadata": {},
   "outputs": [],
   "source": [
    "def collectData(n_data):\n",
    "    driver = setup()\n",
    "    switchToIframe(driver)\n",
    "\n",
    "    for i in range(n_data):\n",
    "        # scrollToTheBottom(driver)\n",
    "        # clickables = getAllClickables(driver)\n",
    "        # chosenLink = random.choice(clickables[10:])\n",
    "        # print(chosenLink)\n",
    "\n",
    "        clickElement(driver, 414, 3000)\n",
    "        break\n",
    "\n",
    "        \n",
    "\n",
    "# collectData(5)"
   ]
  },
  {
   "cell_type": "code",
   "execution_count": null,
   "metadata": {},
   "outputs": [],
   "source": [
    "G = nx.DiGraph()\n",
    "G.add_node('a', time='a')\n",
    "G.add_node(\"f\", time=\"f\")\n",
    "G.add_edge('f', 'f')\n",
    "# showGraph(G)\n",
    "\n",
    "\n"
   ]
  },
  {
   "cell_type": "code",
   "execution_count": 7,
   "metadata": {},
   "outputs": [],
   "source": [
    "# G.nodes(data=True)"
   ]
  },
  {
   "cell_type": "code",
   "execution_count": null,
   "metadata": {},
   "outputs": [],
   "source": [
    "def showGraph(G):\n",
    "    options = {\n",
    "        \"font_size\": 36,\n",
    "        \"node_size\": 3000,\n",
    "        \"node_color\": \"white\",\n",
    "        \"edgecolors\": \"black\",\n",
    "        \"linewidths\": 5,\n",
    "        \"width\": 5,\n",
    "    }\n",
    "\n",
    "    nx.draw_networkx(G)\n",
    "    # Set margins for the axes so that nodes aren't clipped\n",
    "    ax = plt.gca()\n",
    "    ax.margins(0.20)\n",
    "    plt.axis(\"off\")\n",
    "    plt.show()\n",
    "\n",
    "\n",
    "\n",
    "\n",
    "# visitedLinks = set(['http://localhost:4200/assets/crawled/hansel/hanselfrombasel.com/cart.html'])\n",
    "\n",
    "# def collectData(driver, prevRoot, root, meunuClicked=False):\n",
    "#     # visitedLinks.add(root['href_full'].replace(\"#\", \"\"))\n",
    "\n",
    "#     clickElement(driver, x=root['x'], y=root['y'])\n",
    "#     scrollToTheBottom(driver)\n",
    "#     clickables = getAllClickables(driver)\n",
    "\n",
    "#     # links with # have to be handled\n",
    "#     clickables_diff = set([clickable['href_full'].replace(\"#\", \"\") for clickable in clickables]).difference(visitedLinks)\n",
    "\n",
    "#     clickables = [clickable for clickable in clickables if clickable['href_full'].replace(\"#\", \"\") in clickables_diff]\n",
    "\n",
    "#     if clickables.__len__() == 0:\n",
    "#         return\n",
    "\n",
    "#     for clickable in clickables:\n",
    "#         print(clickable['href'], clickable['href_full'])\n",
    "#         collectData(driver, root, clickable, False)\n",
    "\n",
    "#         print(\"LEVEL UP\")\n",
    "#         # maybe parent is missing-- correct it\n",
    "#         updateURL(driver, prevRoot['href_full'])\n",
    "        "
   ]
  }
 ],
 "metadata": {
  "kernelspec": {
   "display_name": "Python 3.9.13 ('websim')",
   "language": "python",
   "name": "python3"
  },
  "language_info": {
   "codemirror_mode": {
    "name": "ipython",
    "version": 3
   },
   "file_extension": ".py",
   "mimetype": "text/x-python",
   "name": "python",
   "nbconvert_exporter": "python",
   "pygments_lexer": "ipython3",
   "version": "3.9.13"
  },
  "pycharm": {
   "stem_cell": {
    "cell_type": "raw",
    "metadata": {
     "collapsed": false
    },
    "source": []
   }
  },
  "vscode": {
   "interpreter": {
    "hash": "41219e3e43fc690cbf179fb4a48668b83e72c4e24a94d49b46fbde8ea7482082"
   }
  }
 },
 "nbformat": 4,
 "nbformat_minor": 0
}
