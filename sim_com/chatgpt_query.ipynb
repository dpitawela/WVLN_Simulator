{
 "cells": [
  {
   "cell_type": "code",
   "execution_count": 5,
   "metadata": {},
   "outputs": [],
   "source": [
    "import openai\n",
    "import json\n",
    "\n",
    "API_KEY = \"\"\n",
    "openai.api_key = API_KEY"
   ]
  },
  {
   "cell_type": "code",
   "execution_count": 6,
   "metadata": {},
   "outputs": [],
   "source": [
    "# documentation: https://platform.openai.com/docs/api-reference/completions/create?lang=python\n",
    "\n",
    "def generate_text(prompt):\n",
    "    response = openai.ChatCompletion.create(\n",
    "        model=\"gpt-3.5-turbo\",\n",
    "        messages = [{\"role\":\"user\", \"content\":prompt}],\n",
    "        max_tokens=50,\n",
    "        temperature=0.1\n",
    "    )\n",
    "\n",
    "    return response"
   ]
  },
  {
   "cell_type": "code",
   "execution_count": 7,
   "metadata": {},
   "outputs": [],
   "source": [
    "# download data files from box\n",
    "with open('good_data/HB/data/R_1675159854_HB_4.json', 'r') as f:\n",
    "    dt_json=json.load(f)\n",
    "\n",
    "word_list = str(dt_json['actions'][4]['text'])\n",
    "query = \" Provide 3 questions and their answers that can be directly found from the information provided in the text. \" \\\n",
    "\"Ask first question about price and second about available sizes and third about material. \" \\\n",
    "\"If precise answers cannot be found for those questions, then ask the questions on colours and availability in stock. \" \\\n",
    "\"Phrase your questions in a clear and concise manner to ensure they can be accurately answered by the given content. \" \\\n",
    "\"Answer should be to the point without additional information\"\n",
    "\n",
    "prompt = word_list + query"
   ]
  },
  {
   "cell_type": "code",
   "execution_count": 8,
   "metadata": {},
   "outputs": [
    {
     "name": "stdout",
     "output_type": "stream",
     "text": [
      "1. What is the price of the Men's gift card?\n",
      "Answer: The Men's gift card is priced at $30.\n",
      "\n",
      "2. What sizes are available for the Courtside Short Crew socks?\n",
      "Answer: The text does not provide information on available\n"
     ]
    }
   ],
   "source": [
    "response = generate_text(prompt)\n",
    "print(response['choices'][0]['message']['content'])"
   ]
  },
  {
   "cell_type": "code",
   "execution_count": null,
   "metadata": {},
   "outputs": [],
   "source": []
  }
 ],
 "metadata": {
  "kernelspec": {
   "display_name": "wvln",
   "language": "python",
   "name": "python3"
  },
  "language_info": {
   "codemirror_mode": {
    "name": "ipython",
    "version": 3
   },
   "file_extension": ".py",
   "mimetype": "text/x-python",
   "name": "python",
   "nbconvert_exporter": "python",
   "pygments_lexer": "ipython3",
   "version": "3.9.15"
  },
  "orig_nbformat": 4
 },
 "nbformat": 4,
 "nbformat_minor": 2
}
